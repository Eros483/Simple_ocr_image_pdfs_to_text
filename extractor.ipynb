{
 "cells": [
  {
   "cell_type": "code",
   "execution_count": 1,
   "id": "f24a16fd",
   "metadata": {},
   "outputs": [],
   "source": [
    "import os\n",
    "from pdf2image import convert_from_path\n",
    "import pytesseract"
   ]
  },
  {
   "cell_type": "code",
   "execution_count": 2,
   "id": "e6a54683",
   "metadata": {},
   "outputs": [],
   "source": [
    "def pdf_to_text(pdf_path):\n",
    "    # Get directory and filename\n",
    "    base_dir = os.path.dirname(pdf_path)\n",
    "    file_name = os.path.splitext(os.path.basename(pdf_path))[0]\n",
    "    txt_path = os.path.join(base_dir, file_name + \".txt\")\n",
    "\n",
    "    # Convert PDF pages to images\n",
    "    pages = convert_from_path(pdf_path)\n",
    "\n",
    "    # OCR each page and collect text\n",
    "    full_text = []\n",
    "    for i, page in enumerate(pages, start=1):\n",
    "        text = pytesseract.image_to_string(page)\n",
    "        full_text.append(text)\n",
    "        print(f\"[INFO] Processed page {i}/{len(pages)}\")\n",
    "\n",
    "    # Write to text file\n",
    "    with open(txt_path, \"w\", encoding=\"utf-8\") as f:\n",
    "        f.write(\"\\n\".join(full_text))\n",
    "\n",
    "    print(f\"[DONE] OCR complete. Text saved to: {txt_path}\")\n"
   ]
  },
  {
   "cell_type": "code",
   "execution_count": 3,
   "id": "bd192ada",
   "metadata": {},
   "outputs": [],
   "source": [
    "path=r\"//home//arnab//linuxCode//simple_pdf_images_ocr//Ranade Hindustani Music.pdf\""
   ]
  },
  {
   "cell_type": "code",
   "execution_count": 5,
   "id": "d1e8694f",
   "metadata": {},
   "outputs": [
    {
     "name": "stdout",
     "output_type": "stream",
     "text": [
      "[INFO] Processed page 1/18\n",
      "[INFO] Processed page 2/18\n",
      "[INFO] Processed page 3/18\n",
      "[INFO] Processed page 4/18\n",
      "[INFO] Processed page 5/18\n",
      "[INFO] Processed page 6/18\n",
      "[INFO] Processed page 7/18\n",
      "[INFO] Processed page 8/18\n",
      "[INFO] Processed page 9/18\n",
      "[INFO] Processed page 10/18\n",
      "[INFO] Processed page 11/18\n",
      "[INFO] Processed page 12/18\n",
      "[INFO] Processed page 13/18\n",
      "[INFO] Processed page 14/18\n",
      "[INFO] Processed page 15/18\n",
      "[INFO] Processed page 16/18\n",
      "[INFO] Processed page 17/18\n",
      "[INFO] Processed page 18/18\n",
      "[DONE] OCR complete. Text saved to: //home//arnab//linuxCode//simple_pdf_images_ocr/Ranade Hindustani Music.txt\n"
     ]
    }
   ],
   "source": [
    "pdf_to_text(path)"
   ]
  }
 ],
 "metadata": {
  "kernelspec": {
   "display_name": "base",
   "language": "python",
   "name": "python3"
  },
  "language_info": {
   "codemirror_mode": {
    "name": "ipython",
    "version": 3
   },
   "file_extension": ".py",
   "mimetype": "text/x-python",
   "name": "python",
   "nbconvert_exporter": "python",
   "pygments_lexer": "ipython3",
   "version": "3.13.5"
  }
 },
 "nbformat": 4,
 "nbformat_minor": 5
}
